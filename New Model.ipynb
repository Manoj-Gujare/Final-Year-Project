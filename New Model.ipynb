{
 "cells": [
  {
   "cell_type": "code",
   "execution_count": 1,
   "id": "8af5fe7c",
   "metadata": {},
   "outputs": [],
   "source": [
    "import cv2\n",
    "import pytesseract\n",
    "import pandas as pd\n",
    "from PrescripTech_Model import YOLO_Pred\n",
    "from PIL import Image\n",
    "import re\n",
    "\n",
    "pytesseract.pytesseract.tesseract_cmd = r'C:\\Program Files\\Tesseract-OCR\\tesseract.exe'"
   ]
  },
  {
   "cell_type": "code",
   "execution_count": 2,
   "id": "61fa4bda",
   "metadata": {},
   "outputs": [],
   "source": [
    "yolo = YOLO_Pred('best.onnx','data.yaml')"
   ]
  },
  {
   "cell_type": "code",
   "execution_count": 3,
   "id": "e04e99ce",
   "metadata": {},
   "outputs": [],
   "source": [
    "image = cv2.imread(r\"C:\\Users\\Omkar\\Desktop\\Project\\Demo.jpg\")"
   ]
  },
  {
   "cell_type": "code",
   "execution_count": 4,
   "id": "93fee239",
   "metadata": {},
   "outputs": [],
   "source": [
    "img_pred, crop = yolo.predictions(image)\n",
    "\n",
    "cv2.imshow('Predictions',img_pred)\n",
    "cv2.waitKey(0)\n",
    "cv2.destroyAllWindows()\n",
    "\n",
    "cv2.imshow('OCR',crop)\n",
    "cv2.waitKey(0)\n",
    "cv2.destroyAllWindows()"
   ]
  },
  {
   "cell_type": "code",
   "execution_count": 5,
   "id": "39cdf0e7",
   "metadata": {},
   "outputs": [],
   "source": [
    "result,res = yolo.final_predictions(image)"
   ]
  },
  {
   "cell_type": "code",
   "execution_count": 6,
   "id": "c7084c92",
   "metadata": {},
   "outputs": [
    {
     "data": {
      "text/html": [
       "<div>\n",
       "<style scoped>\n",
       "    .dataframe tbody tr th:only-of-type {\n",
       "        vertical-align: middle;\n",
       "    }\n",
       "\n",
       "    .dataframe tbody tr th {\n",
       "        vertical-align: top;\n",
       "    }\n",
       "\n",
       "    .dataframe thead th {\n",
       "        text-align: right;\n",
       "    }\n",
       "</style>\n",
       "<table border=\"1\" class=\"dataframe\">\n",
       "  <thead>\n",
       "    <tr style=\"text-align: right;\">\n",
       "      <th></th>\n",
       "      <th>Brand Name</th>\n",
       "      <th>Generic Name</th>\n",
       "      <th>Package</th>\n",
       "      <th>Strength</th>\n",
       "      <th>Price</th>\n",
       "    </tr>\n",
       "  </thead>\n",
       "  <tbody>\n",
       "    <tr>\n",
       "      <th>0</th>\n",
       "      <td>dolo</td>\n",
       "      <td>Paracetamol</td>\n",
       "      <td>Tablet</td>\n",
       "      <td>500 mg</td>\n",
       "      <td>15.5</td>\n",
       "    </tr>\n",
       "    <tr>\n",
       "      <th>1</th>\n",
       "      <td>dolo</td>\n",
       "      <td>Paracetamol</td>\n",
       "      <td>Tablet</td>\n",
       "      <td>650 mg</td>\n",
       "      <td>16.0</td>\n",
       "    </tr>\n",
       "    <tr>\n",
       "      <th>2</th>\n",
       "      <td>dolo</td>\n",
       "      <td>Paracetamol</td>\n",
       "      <td>Tablet</td>\n",
       "      <td>650 mg</td>\n",
       "      <td>15.5</td>\n",
       "    </tr>\n",
       "    <tr>\n",
       "      <th>3</th>\n",
       "      <td>zifi</td>\n",
       "      <td>Cefixime</td>\n",
       "      <td>Tablet</td>\n",
       "      <td>200 mg</td>\n",
       "      <td>147.5</td>\n",
       "    </tr>\n",
       "  </tbody>\n",
       "</table>\n",
       "</div>"
      ],
      "text/plain": [
       "  Brand Name Generic Name Package Strength  Price\n",
       "0       dolo  Paracetamol  Tablet   500 mg   15.5\n",
       "1       dolo  Paracetamol  Tablet   650 mg   16.0\n",
       "2       dolo  Paracetamol  Tablet   650 mg   15.5\n",
       "3       zifi     Cefixime  Tablet   200 mg  147.5"
      ]
     },
     "execution_count": 6,
     "metadata": {},
     "output_type": "execute_result"
    }
   ],
   "source": [
    "result"
   ]
  },
  {
   "cell_type": "code",
   "execution_count": 7,
   "id": "a46eb315",
   "metadata": {},
   "outputs": [
    {
     "data": {
      "text/plain": [
       "['Levocet M']"
      ]
     },
     "execution_count": 7,
     "metadata": {},
     "output_type": "execute_result"
    }
   ],
   "source": [
    "res"
   ]
  },
  {
   "cell_type": "code",
   "execution_count": null,
   "id": "cffb5dd5",
   "metadata": {},
   "outputs": [],
   "source": []
  }
 ],
 "metadata": {
  "kernelspec": {
   "display_name": "Python 3 (ipykernel)",
   "language": "python",
   "name": "python3"
  },
  "language_info": {
   "codemirror_mode": {
    "name": "ipython",
    "version": 3
   },
   "file_extension": ".py",
   "mimetype": "text/x-python",
   "name": "python",
   "nbconvert_exporter": "python",
   "pygments_lexer": "ipython3",
   "version": "3.10.9"
  }
 },
 "nbformat": 4,
 "nbformat_minor": 5
}
